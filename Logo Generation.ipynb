{
 "cells": [
  {
   "cell_type": "code",
   "execution_count": 11,
   "metadata": {},
   "outputs": [],
   "source": [
    "import tensorflow as tf\n",
    "from tensorflow import keras\n",
    "from keras import layers\n",
    "import matplotlib.pyplot as plt\n",
    "import cv2\n",
    "from PIL import Image\n",
    "from tqdm import tqdm\n",
    "import h5py\n",
    "import sklearn\n",
    "import pandas as pd\n",
    "import nltk\n",
    "import os\n",
    "import numpy as np\n",
    "from wordcloud import WordCloud"
   ]
  },
  {
   "cell_type": "code",
   "execution_count": 22,
   "metadata": {},
   "outputs": [],
   "source": [
    "# simple way to load the complete dataset (for a more sophisticated generator example, see LLD-logo script)\n",
    "# open hdf5 file\n",
    "hdf5_file = h5py.File('LLD-icon.hdf5', 'r')\n",
    "# load data into memory as numpy array\n",
    "images, labels = (hdf5_file['data'][:], hdf5_file['labels/resnet/rc_64'][:])\n"
   ]
  },
  {
   "cell_type": "code",
   "execution_count": 29,
   "metadata": {},
   "outputs": [
    {
     "data": {
      "text/plain": [
       "<matplotlib.image.AxesImage at 0x162cc5403a0>"
      ]
     },
     "execution_count": 29,
     "metadata": {},
     "output_type": "execute_result"
    },
    {
     "data": {
      "image/png": "[encoded data removed]",
      "text/plain": [
       "<Figure size 100x100 with 1 Axes>"
      ]
     },
     "metadata": {},
     "output_type": "display_data"
    }
   ],
   "source": [
    "# Investigate the icon data using matplotlib\n",
    "fig = plt.figure(figsize=(1, 1))\n",
    "plt.imshow(np.transpose(images[20], (1, 2, 0)))"
   ]
  },
  {
   "cell_type": "code",
   "execution_count": null,
   "metadata": {},
   "outputs": [],
   "source": [
    "# Initiate a GAN model using tensorflow & keras\n",
    "# Generator\n",
    "latent_dim = 100\n",
    "generator = keras.Sequential()\n",
    "generator.add(layers.Dense(256 activation=\"relu\", input_dim=latent_dim))\n",
    "generator.add(layers.Dense(512, activation=\"relu\", input_dim=latent_dim))\n",
    "generator.add(layers.Dense(1024, activation=\"relu\", input_dim=latent_dim))\n",
    "generator.add(layers.Dense(784, activation=\"relu\", input_dim=latent_dim))\n",
    "generator.add(layers.Reshape((28, 28, 1)))\n",
    "\n",
    "# Discriminator\n",
    "discriminator = keras.Sequential()\n",
    "discriminator.add(layers.Flatten(input_shape=(28, 28, 1)))\n",
    "discriminator.add(layers.Dense(1024, activation='relu'))\n",
    "discriminator.add(layers.Dense(512, activation='relu'))\n",
    "discriminator.add(layers.Dense(256, activation='relu'))\n",
    "discriminator.add(layers.Dense(1, activation='sigmoid'))\n",
    "\n",
    "# Compile Discriminator\n",
    "discriminator.compile(loss='binary_crossentropy', optimizer='adam')\n",
    "\n",
    "# Combine the discriminator and generator into the GAN model.\n",
    "discriminator.trainable = False\n",
    "gan = keras.Sequential([generator, discriminator])\n",
    "gan.compile(loss='binary_crossentropy', optimizer='adam')\n"
   ]
  },
  {
   "cell_type": "code",
   "execution_count": null,
   "metadata": {},
   "outputs": [],
   "source": [
    "def generate_noise(n_samples, noise_dim):\n",
    "    X = np.random.normal(0, 1, size=(n_samples, noise_dim))\n",
    "    return X\n",
    "\n",
    "# Create a function to generate a batch of fake images\n",
    "def generate_fake_samples(generator, n_samples, noise_dim):\n",
    "    noise = generate_noise(n_samples, noise_dim)\n",
    "    fake_logos = generator.predict(noise)\n",
    "    return fake_logos\n",
    "\n",
    "# Train the GAN model\n",
    "def train_gan(generator, discriminator, gan, real_logos, n_epochs, batch_size, latent_dim):\n",
    "    n_batches = int(real_logos.shape[0] // batch_size)\n",
    "    \n",
    "    for epoch in range(n_epochs):\n",
    "        for batch in range(n_batches):\n",
    "            batch_indices = np.random.randint(0, real_logos.shape[0], size=batch_size)\n",
    "            real_batch = real_logos[batch_indices]\n",
    "            \n",
    "            noise = generate_noise(batch_size, latent_dim)\n",
    "            fake_batch = generator.predict(noise)\n",
    "            \n",
    "            X = np.concatenate([real_batch, fake_batch])\n",
    "            y = np.concatenate([np.ones((batch_size, 1)), np.zeros((batch_size, 1))])\n",
    "            discriminator_loss = discriminator.train_on_batch(X, y)\n",
    "            \n",
    "            # Train the Generator\n",
    "            noise = generate_noise(batch_size, latent_dim)\n",
    "            y = np.ones((batch_size, 1))\n",
    "            generator_loss = gan.train_on_batch(noise, y)"
   ]
  }
 ],
 "metadata": {
  "kernelspec": {
   "display_name": "logo-generation-env",
   "language": "python",
   "name": "python3"
  },
  "language_info": {
   "codemirror_mode": {
    "name": "ipython",
    "version": 3
   },
   "file_extension": ".py",
   "mimetype": "text/x-python",
   "name": "python",
   "nbconvert_exporter": "python",
   "pygments_lexer": "ipython3",
   "version": "3.8.17"
  },
  "orig_nbformat": 4
 },
 "nbformat": 4,
 "nbformat_minor": 2
}
